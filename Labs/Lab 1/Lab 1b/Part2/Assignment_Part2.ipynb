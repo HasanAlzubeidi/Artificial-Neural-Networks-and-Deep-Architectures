{
  "cells": [
    {
      "cell_type": "code",
      "execution_count": null,
      "metadata": {
        "vscode": {
          "languageId": "plaintext"
        }
      },
      "outputs": [],
      "source": [
        "import numpy as np \n",
        "import matplotlib.pyplot as plt\n",
        "import tensorflow as tf\n",
        "\n",
        "# The array x_t will contain all result of X(t) in range  0<= t <=1500 \n",
        "x_t = np.zeros(1506)\n",
        "x_t[0]=1.5\n",
        "\n",
        "\n",
        "# The function to calculate the result of x(t)\n",
        "def Mackey_Glass(t_1):\n",
        "  t = t_1 - 1 \n",
        "  if t-25<0:\n",
        "     xt_25 = 0 \n",
        "  else: \n",
        "     xt_25 = x_t[t-25]  \n",
        "\n",
        "\n",
        "  return ((x_t[t]) + ((0.2 * xt_25)/(1+ xt_25**10)) - (0.1 *x_t[t]))\n",
        "\n",
        "\n",
        "# storing the result of X(t) in x_t\n",
        "for i in range(1,1506):\n",
        "  x_t[i] = Mackey_Glass(i)\n",
        "\n",
        "\n",
        "\n",
        "inputs = np.zeros((1200, 5))   #shape is [1200,5]\n",
        "outputs = np.zeros((1200, 1))  #shape is [1200,1]\n",
        "\n",
        "\n",
        "#Generating the inputs and the outputs according to the lab instructions\n",
        "#t satrts at 301 until it is 1500\n",
        "t = 301\n",
        "for i in range(1200):\n",
        "  inputs[i][0] =  x_t[t-20]\n",
        "  inputs[i][1] =  x_t[t-15]\n",
        "  inputs[i][2] =  x_t[t-10]\n",
        "  inputs[i][3] =  x_t[t-5]\n",
        "  inputs[i][4] =  x_t[t]\n",
        "  outputs[i][0] = x_t[t+5]\n",
        "  t +=1"
      ]
    },
    {
      "cell_type": "code",
      "execution_count": null,
      "metadata": {
        "vscode": {
          "languageId": "plaintext"
        }
      },
      "outputs": [],
      "source": [
        "t = np.arange(start=301, stop=1506, dtype=int)\n",
        "plt.plot(t, x_t[301:1506])\n",
        "plt.xlabel(\"t-values\")\n",
        "plt.ylabel(\"x(t) values\")\n",
        "plt.title(\"Time-series\")\n",
        "plt.show()"
      ]
    },
    {
      "cell_type": "code",
      "execution_count": null,
      "metadata": {
        "vscode": {
          "languageId": "plaintext"
        }
      },
      "outputs": [],
      "source": [
        "# We divide the data into three subsets, trainning, validaion, and test  \n",
        "x = np.split(inputs, [800,1000])\n",
        "y = np.split(outputs, [800,1000])\n",
        "\n",
        "x_train = np.array(x[0])           #800 (shape [800,5])\n",
        "x_validation = np.array(x[1])      #200\n",
        "x_test = np.array(x[2])            #200\n",
        "\n",
        "y_train = np.array(y[0]).flatten()\n",
        "y_validation = np.array(y[1]).flatten()\n",
        "y_test = np.array(y[2]).flatten()"
      ]
    },
    {
      "cell_type": "code",
      "execution_count": null,
      "metadata": {
        "vscode": {
          "languageId": "plaintext"
        }
      },
      "outputs": [],
      "source": [
        "#Building the network using tensorflow\n",
        "\n",
        "class neural_network: \n",
        "  \n",
        "   #n_layer is array that contain informatin about layers; number of nodes and the activation function in each layer\n",
        "   def __init__(self, learning_rate, n_layer, epochs, loss, inputs, outputs):\n",
        "    self.learning_rate = learning_rate\n",
        "    self.n_layer = n_layer\n",
        "    self.model=tf.keras.Sequential() \n",
        "    self.epochs = epochs\n",
        "    self.loss = loss\n",
        "    self.inputs= inputs\n",
        "    self.outputs = outputs\n",
        "\n",
        "\n",
        "\n",
        "   def createlayers(self):\n",
        "     for layer in self.n_layer: \n",
        "       self.model.add(tf.keras.layers.Dense(layer[0] , activation=layer[1]))\n",
        "\n",
        "   def train(self):\n",
        "    early_stopping = tf.keras.callbacks.EarlyStopping(monitor='val_loss') #Implenetaion of ealy stopping\n",
        "    SGD = tf.keras.optimizers.SGD(learning_rate=self.learning_rate)       #\n",
        "    self.model.compile(loss=self.loss, optimizer =  SGD)\n",
        "    self.model.fit(self.inputs,\n",
        "                   self.outputs, \n",
        "                   epochs = self.epochs,\n",
        "                   validation_data=(x_validation, y_validation), \n",
        "                   callbacks=[early_stopping],\n",
        "                   shuffle=False)\n",
        "    \n",
        "\n",
        "   def predict(self, x_test):\n",
        "    return self.model.predict(x_test) \n",
        "\n",
        "\n",
        "\n",
        "\n",
        "\n",
        "\n",
        "my_neural_network =  neural_network(n_layer=[[5, \"sigmoid\"], [2, \"sigmoid\"], [1, \"linear\"]],\n",
        "                                    epochs=100,\n",
        "                                    loss=\"mse\",\n",
        "                                    inputs=x_train,\n",
        "                                    outputs=y_train,\n",
        "                                    learning_rate=0.4\n",
        "                                  )\n",
        "\n",
        "\n",
        "\n",
        "my_neural_network.createlayers()\n",
        "my_neural_network.train()\n",
        "temp = my_neural_network.predict(x_test)"
      ]
    }
  ],
  "metadata": {
    "colab": {
      "provenance": []
    },
    "kernelspec": {
      "display_name": "Python 3",
      "name": "python3"
    },
    "language_info": {
      "name": "python"
    }
  },
  "nbformat": 4,
  "nbformat_minor": 0
}
