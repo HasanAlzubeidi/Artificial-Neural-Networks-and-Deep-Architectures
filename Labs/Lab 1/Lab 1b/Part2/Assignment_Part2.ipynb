{
  "cells": [
    {
      "cell_type": "code",
      "execution_count": 21,
      "metadata": {
        "id": "FrIrA6EHzcUC"
      },
      "outputs": [],
      "source": [
        "import numpy as np\n",
        "\n",
        "# The array x_t will contain all result of X(t) in range  0<= t <=1505\n",
        "x_t = np.zeros(1506)\n",
        "x_t[0]=1.5\n",
        "\n",
        "\n",
        "# The function to calculate the result of x(t)\n",
        "def Mackey_Glass(t_1):\n",
        "  t = t_1 - 1\n",
        "  if t-25<0:\n",
        "     xt_25 = 0\n",
        "  else:\n",
        "     xt_25 = x_t[t-25]\n",
        "\n",
        "\n",
        "  return ((x_t[t]) + ((0.2 * xt_25)/(1+ xt_25**10)) - (0.1 *x_t[t]))\n",
        "\n",
        "\n",
        "# storing the result of X(t) in x_t\n",
        "for i in range(1,1506):\n",
        "  x_t[i] = Mackey_Glass(i)\n",
        "\n",
        "\n",
        "\n",
        "inputs = np.zeros((1200, 5))   #shape is [1200,5]\n",
        "outputs = np.zeros((1200, 1))  #shape is [1200,1]\n",
        "\n",
        "\n",
        "#Generating the inputs and the outputs according to the lab instructions\n",
        "#t satrts at 301 until it is 1500\n",
        "t = 301\n",
        "for i in range(1200):\n",
        "  inputs[i][0] =  x_t[t-20]\n",
        "  inputs[i][1] =  x_t[t-15]\n",
        "  inputs[i][2] =  x_t[t-10]\n",
        "  inputs[i][3] =  x_t[t-5]\n",
        "  inputs[i][4] =  x_t[t]\n",
        "  outputs[i][0] = x_t[t+5]\n",
        "  t +=1\n",
        "\n",
        "\n",
        "\n",
        "\n",
        "\n",
        "\n",
        "\n",
        "\n"
      ]
    }
  ],
  "metadata": {
    "colab": {
      "provenance": []
    },
    "kernelspec": {
      "display_name": "Python 3",
      "name": "python3"
    },
    "language_info": {
      "name": "python"
    }
  },
  "nbformat": 4,
  "nbformat_minor": 0
}
