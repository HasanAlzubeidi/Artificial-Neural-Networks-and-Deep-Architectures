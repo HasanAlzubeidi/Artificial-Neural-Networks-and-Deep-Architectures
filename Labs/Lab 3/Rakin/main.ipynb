{
 "cells": [
  {
   "cell_type": "code",
   "execution_count": 1,
   "metadata": {},
   "outputs": [],
   "source": [
    "# All the imports\n",
    "import matplotlib.pyplot as plt\n",
    "import numpy as np\n",
    "import itertools\n",
    "import tqdm\n",
    "import Hopfield\n"
   ]
  },
  {
   "cell_type": "markdown",
   "metadata": {},
   "source": [
    "3.0 Hopfield Network recall"
   ]
  },
  {
   "cell_type": "code",
   "execution_count": 2,
   "metadata": {},
   "outputs": [
    {
     "name": "stdout",
     "output_type": "stream",
     "text": [
      "Pattern  1  is a fixed point:  True\n",
      "Pattern  2  is a fixed point:  True\n",
      "Pattern  3  is a fixed point:  True\n"
     ]
    }
   ],
   "source": [
    "def part3_0():\n",
    "    x1 = np.array([-1,-1,1,-1,1,-1 ,-1 ,1], dtype=float)\n",
    "    x2 = np.array([-1,-1,-1,-1,-1,1,-1,-1], dtype=float)\n",
    "    x3 = np.array([-1,1,1,-1,-1,1,-1,1], dtype=float)\n",
    "    patterns = np.array([x1,x2,x3])\n",
    "    network = Hopfield.Hopfield(max_iterations=1)\n",
    "    network.fit(patterns)\n",
    "    results = network.predict(patterns)\n",
    "\n",
    "    for x in range(len(patterns)):\n",
    "        print(\"Pattern \", x+1, \" is a fixed point: \", np.array_equal(patterns[x], results[x]))\n",
    "        \n",
    "\n",
    "\n",
    "part3_0()"
   ]
  },
  {
   "cell_type": "markdown",
   "metadata": {},
   "source": [
    "### 3.1 Convergence and attractors of Hopfields\n",
    "- Apply the update rule repeatedly until you reach a stable fixed point. Did all the patterns converge towards stored patterns?\n",
    "\n",
    "**Answer:** Yes it did converge towards the stored patterns."
   ]
  },
  {
   "cell_type": "code",
   "execution_count": 3,
   "metadata": {},
   "outputs": [
    {
     "name": "stdout",
     "output_type": "stream",
     "text": [
      "Testing with Batch update\n",
      "Pattern  1  is a fixed point:  True\n",
      "Pattern  2  is a fixed point:  True\n",
      "Pattern  3  is a fixed point:  True\n",
      "Number of fixed points:  3\n",
      "Testing with sequential update\n",
      "Pattern  1  is a fixed point:  True\n",
      "Pattern  2  is a fixed point:  True\n",
      "Pattern  3  is a fixed point:  True\n"
     ]
    }
   ],
   "source": [
    "# Did all the patterns converge to fixed points? --> Yes\n",
    "x1d = np.array([1, -1, 1, -1, 1, -1, -1, 1])\n",
    "x2d = np.array([1, 1, -1, -1, -1, 1, -1, -1])\n",
    "x3d = np.array([1, 1, 1, -1, 1, 1, -1, 1])\n",
    "patterns = np.array([x1d,x2d,x3d])\n",
    "\n",
    "print(\"Testing with Batch update\")\n",
    "\n",
    "network = Hopfield.Hopfield(max_iterations=100)\n",
    "network.fit(patterns)\n",
    "results = network.predict(patterns)\n",
    "for x in range(len(patterns)):\n",
    "    # Print if they are fixed points are not\n",
    "    print(\"Pattern \", x+1, \" is a fixed point: \", np.array_equal(patterns[x], results[x]))\n",
    "\n",
    "print(\"Number of fixed points: \", np.sum([np.array_equal(patterns[x], results[x]) for x in range(len(patterns))]))\n",
    "\n",
    "print(\"Testing with sequential update\")\n",
    "network = Hopfield.Hopfield(max_iterations=100, prediction_method=\"sequential\")\n",
    "network.fit(patterns)\n",
    "results = network.predict(patterns)\n",
    "for x in range(len(patterns)):\n",
    "    # Print if they are fixed points are not\n",
    "    print(\"Pattern \", x+1, \" is a fixed point: \", np.array_equal(patterns[x], results[x]))"
   ]
  },
  {
   "cell_type": "markdown",
   "metadata": {},
   "source": [
    "- How many attractors are there in this network? Hint: automate the searching. "
   ]
  },
  {
   "cell_type": "code",
   "execution_count": 5,
   "metadata": {},
   "outputs": [
    {
     "name": "stdout",
     "output_type": "stream",
     "text": [
      "Number of attractors:  6\n",
      "occurrences:  [48. 30. 50. 50. 30. 48.]\n",
      "The attractors are:  [[-1 -1 -1  1 -1 -1  1 -1]\n",
      " [-1 -1  1  1  1 -1  1  1]\n",
      " [-1  1 -1  1 -1  1  1 -1]\n",
      " [ 1 -1  1 -1  1 -1 -1  1]\n",
      " [ 1  1 -1 -1 -1  1 -1 -1]\n",
      " [ 1  1  1 -1  1  1 -1  1]]\n"
     ]
    },
    {
     "data": {
      "image/png": "[encoded data removed]",
      "text/plain": [
       "<Figure size 640x480 with 1 Axes>"
      ]
     },
     "metadata": {},
     "output_type": "display_data"
    }
   ],
   "source": [
    "# Creation of the set of all combinations of 3 patterns\n",
    "all_patterns = np.array([np.array(i) for i in itertools.product([-1, 1], repeat=8)])\n",
    "\n",
    "# For each combination, find the fixed point\n",
    "network_mine = Hopfield.Hopfield(max_iterations=3, prediction_method=\"sequential\")\n",
    "network_mine.fit(patterns)\n",
    "results = network_mine.predict(all_patterns)\n",
    "\n",
    "# Finding the attractors\n",
    "attractors = np.unique(results, axis=0)\n",
    "occurences = np.zeros(len(attractors))\n",
    "for i, attractor in enumerate(attractors):\n",
    "    for j in range(len(results)):\n",
    "        if np.array_equal(attractor, results[j]):\n",
    "            occurences[i] += 1\n",
    "\n",
    "print(\"Number of attractors: \", len(attractors))\n",
    "print(\"occurrences: \", occurences)\n",
    "print(\"The attractors are: \", attractors)\n",
    "\n",
    "# Plotting the attractors\n",
    "plt.bar(range(len(attractors)), occurences, color=\"green\")\n",
    "plt.xlabel(\"Fixed point index\")\n",
    "plt.ylabel(\"Number of occurrences\")\n",
    "plt.title(\"Number of occurrences of each fixed point\")\n",
    "plt.show()"
   ]
  },
  {
   "cell_type": "markdown",
   "metadata": {},
   "source": [
    "- What happens when you make the starting pattern even more dissimilar to the stored ones (e.g more than half is wrong)\n",
    "**Answer** Cannot converge to the stored patterns."
   ]
  },
  {
   "cell_type": "code",
   "execution_count": 6,
   "metadata": {},
   "outputs": [
    {
     "name": "stdout",
     "output_type": "stream",
     "text": [
      "Pattern  1  is a fixed point:  False\n",
      "Pattern  2  is a fixed point:  False\n",
      "Pattern  3  is a fixed point:  False\n"
     ]
    }
   ],
   "source": [
    "# These three input patterns have 5 bit errors, compared with x1, x2 and x3\n",
    "x1d2 = np.array([1, 1, -1, 1, -1, -1, -1, 1])\n",
    "x2d2 = np.array([1, 1, 1, 1, 1, 1, -1, -1])\n",
    "x3d2 = np.array([1, -1, -1, 1, 1, 1, -1, 1])\n",
    "patterns_d2 = np.array([x1d2, x2d2, x3d2])\n",
    "\n",
    "network = Hopfield.Hopfield()\n",
    "\n",
    "network.fit(patterns)\n",
    "results = network.predict(patterns_d2)\n",
    "\n",
    "for x in range(len(patterns_d2)):\n",
    "    print(\"Pattern \", x+1, \" is a fixed point: \", np.array_equal(patterns[x], results[x]))\n",
    "    "
   ]
  },
  {
   "cell_type": "markdown",
   "metadata": {},
   "source": [
    "## 3.2 Sequential update\n",
    "Switching to a 1024 neuron network. Load the pict.dat which contains nine 1024 pixel images. Name them p1,p2.... p9. Learn the first three. Since large pattersn are hard to read as row of numbers, please display these 1024-dim pattersn as a 32x32 image."
   ]
  },
  {
   "cell_type": "markdown",
   "metadata": {},
   "source": [
    "- Check that the three patterns are stable.\n"
   ]
  },
  {
   "cell_type": "code",
   "execution_count": 18,
   "metadata": {},
   "outputs": [
    {
     "data": {
      "image/png": "[encoded data removed]",
      "text/plain": [
       "<Figure size 640x480 with 1 Axes>"
      ]
     },
     "metadata": {},
     "output_type": "display_data"
    },
    {
     "data": {
      "image/png": "[encoded data removed]",
      "text/plain": [
       "<Figure size 640x480 with 1 Axes>"
      ]
     },
     "metadata": {},
     "output_type": "display_data"
    },
    {
     "data": {
      "image/png": "[encoded data removed]",
      "text/plain": [
       "<Figure size 640x480 with 1 Axes>"
      ]
     },
     "metadata": {},
     "output_type": "display_data"
    }
   ],
   "source": [
    "data = np.genfromtxt(\"../pict.dat\", delimiter=\",\")\n",
    "\n",
    "# Separates all the data into 11 patterns of size 1024\n",
    "def separate_data(data):\n",
    "    patterns = []\n",
    "    L = []\n",
    "    for i in range(len(data)):\n",
    "        if i % 1024 == 0 and i != 0:\n",
    "            patterns.append(L)\n",
    "            L = []\n",
    "        L.append(data[i])\n",
    "    patterns.append(L)\n",
    "    return np.array(patterns)\n",
    "\n",
    "\n",
    "# Displats the patterns\n",
    "def display_pattern(pattern):\n",
    "    pattern = pattern.reshape(32, 32)\n",
    "    plt.imshow(pattern, interpolation=\"nearest\", cmap=\"gray\")\n",
    "    if np.array_equal(pattern, p10.reshape(32, 32)) or np.array_equal(\n",
    "        pattern, p11.reshape(32, 32)\n",
    "    ):\n",
    "        plt.title(\"Degraded pattern\")\n",
    "    else:\n",
    "        plt.title(\"Pattern\")\n",
    "    plt.show()\n",
    "\n",
    "\n",
    "patterns = separate_data(data)\n",
    "\n",
    "p1 = patterns[0]\n",
    "p2 = patterns[1]\n",
    "p3 = patterns[2]\n",
    "p4 = patterns[3]\n",
    "p5 = patterns[4]\n",
    "p6 = patterns[5]\n",
    "p7 = patterns[6]\n",
    "p8 = patterns[7]\n",
    "p9 = patterns[8]\n",
    "p10 = patterns[9]\n",
    "p11 = patterns[10]\n",
    "\n",
    "# Displaying the patterns\n",
    "display_pattern(p1)\n",
    "display_pattern(p2)\n",
    "display_pattern(p3)\n"
   ]
  }
 ],
 "metadata": {
  "kernelspec": {
   "display_name": "base",
   "language": "python",
   "name": "python3"
  },
  "language_info": {
   "codemirror_mode": {
    "name": "ipython",
    "version": 3
   },
   "file_extension": ".py",
   "mimetype": "text/x-python",
   "name": "python",
   "nbconvert_exporter": "python",
   "pygments_lexer": "ipython3",
   "version": "3.9.13"
  }
 },
 "nbformat": 4,
 "nbformat_minor": 2
}
