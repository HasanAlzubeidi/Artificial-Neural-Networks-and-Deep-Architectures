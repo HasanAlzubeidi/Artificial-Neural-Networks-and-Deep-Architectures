{
 "cells": [
  {
   "cell_type": "code",
   "execution_count": 1,
   "metadata": {},
   "outputs": [],
   "source": [
    "# All the imports\n",
    "import matplotlib.pyplot as plt\n",
    "import numpy as np\n",
    "import itertools\n",
    "import tqdm\n",
    "import Hopfield"
   ]
  },
  {
   "cell_type": "markdown",
   "metadata": {},
   "source": [
    "3.0 Hopfield Network recall"
   ]
  },
  {
   "cell_type": "code",
   "execution_count": 2,
   "metadata": {},
   "outputs": [
    {
     "name": "stdout",
     "output_type": "stream",
     "text": [
      "Shape of patterns:  (3, 8)\n",
      "Pattern  1  is a fixed point:  True\n",
      "Pattern  2  is a fixed point:  True\n",
      "Pattern  3  is a fixed point:  True\n"
     ]
    }
   ],
   "source": [
    "def part3_0():\n",
    "    x1 = np.array([-1,-1,1,-1,1,-1 ,-1 ,1], dtype=float)\n",
    "    x2 = np.array([-1,-1,-1,-1,-1,1,-1,-1], dtype=float)\n",
    "    x3 = np.array([-1,1,1,-1,-1,1,-1,1], dtype=float)\n",
    "    patterns = np.array([x1,x2,x3])\n",
    "    print(\"Shape of patterns: \", patterns.shape)\n",
    "    network = Hopfield.Hopfield(max_iterations=1)\n",
    "    network.fit(patterns)\n",
    "    results = network.predict(patterns)\n",
    "\n",
    "    for x in range(len(patterns)):\n",
    "        print(\"Pattern \", x+1, \" is a fixed point: \", np.array_equal(patterns[x], results[x]))\n",
    "        \n",
    "\n",
    "\n",
    "part3_0()"
   ]
  },
  {
   "cell_type": "markdown",
   "metadata": {},
   "source": [
    "3.1 Convergence and attractors of Hopfields"
   ]
  },
  {
   "cell_type": "code",
   "execution_count": 3,
   "metadata": {},
   "outputs": [
    {
     "name": "stdout",
     "output_type": "stream",
     "text": [
      "Pattern  1  is a fixed point:  True\n",
      "Pattern  2  is a fixed point:  True\n",
      "Pattern  3  is a fixed point:  True\n",
      "Number of fixed points:  3\n",
      "Testing with sequential update\n",
      "Pattern  1  is a fixed point:  True\n",
      "Pattern  2  is a fixed point:  True\n",
      "Pattern  3  is a fixed point:  True\n",
      "Number of fixed points:  3\n",
      "Checking how many attractors there are in the network\n",
      "Number of attractors:  6\n"
     ]
    }
   ],
   "source": [
    "def part_3_1():    \n",
    "    x1d = np.array([1, -1, 1, -1, 1, -1, -1, 1])\n",
    "    x2d = np.array([1, 1, -1, -1, -1, 1, -1, -1])\n",
    "    x3d = np.array([1, 1, 1, -1, 1, 1, -1, 1])\n",
    "    patterns = np.array([x1d,x2d,x3d])\n",
    "\n",
    "    network = Hopfield.Hopfield(max_iterations=100)\n",
    "    network.fit(patterns)\n",
    "    results = network.predict(patterns)\n",
    "    for x in range(len(patterns)):\n",
    "        # Print if they are fixed points are not\n",
    "        print(\"Pattern \", x+1, \" is a fixed point: \", np.array_equal(patterns[x], results[x]))\n",
    "\n",
    "    print(\"Number of fixed points: \", np.sum([np.array_equal(patterns[x], results[x]) for x in range(len(patterns))]))\n",
    "\n",
    "    print(\"Testing with sequential update\")\n",
    "    network = Hopfield.Hopfield(max_iterations=100, prediction_method=\"sequential\")\n",
    "    network.fit(patterns)\n",
    "    results = network.predict(patterns)\n",
    "    for x in range(len(patterns)):\n",
    "        # Print if they are fixed points are not\n",
    "        print(\"Pattern \", x+1, \" is a fixed point: \", np.array_equal(patterns[x], results[x]))\n",
    "\n",
    "    print(\"Number of fixed points: \", np.sum([np.array_equal(patterns[x], results[x]) for x in range(len(patterns))]))\n",
    "\n",
    "    # How many attrachors are there in this network?\n",
    "    print(\"Checking how many attractors there are in the network\")\n",
    "    all_patterns = np.array([np.array(i) for i in itertools.product([-1, 1], repeat=8)])\n",
    "    test_network = Hopfield.Hopfield(max_iterations=3, prediction_method=\"sequential\")\n",
    "    \n",
    "    test_network.fit(patterns)\n",
    "    results = test_network.predict(all_patterns)\n",
    "    attractors = np.unique(results, axis=0)\n",
    "    occurences = np.zeros(len(attractors))\n",
    "    index = 0\n",
    "    for attractor in attractors:\n",
    "        for i in range(len(results)):\n",
    "            if np.array_equal(attractor, results[i]):\n",
    "                occurences[index] += 1\n",
    "        index += 1\n",
    "    print(\"Number of attractors: \", len(attractors))\n",
    "\n"
   ]
  }
 ],
 "metadata": {
  "kernelspec": {
   "display_name": "base",
   "language": "python",
   "name": "python3"
  },
  "language_info": {
   "codemirror_mode": {
    "name": "ipython",
    "version": 3
   },
   "file_extension": ".py",
   "mimetype": "text/x-python",
   "name": "python",
   "nbconvert_exporter": "python",
   "pygments_lexer": "ipython3",
   "version": "3.9.13"
  }
 },
 "nbformat": 4,
 "nbformat_minor": 2
}
